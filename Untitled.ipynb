{
 "cells": [
  {
   "cell_type": "code",
   "execution_count": 2,
   "id": "758c8a7d-783a-4a50-868e-151754bb5a59",
   "metadata": {},
   "outputs": [
    {
     "name": "stdout",
     "output_type": "stream",
     "text": [
      "Requirement already satisfied: numpy in c:\\users\\jmoreno\\appdata\\local\\programs\\python\\python312\\lib\\site-packages (1.26.4)\n"
     ]
    }
   ],
   "source": [
    "!pip install numpy"
   ]
  },
  {
   "cell_type": "code",
   "execution_count": 3,
   "id": "73ddbd14-09c0-4536-bcee-94a2371dd1f4",
   "metadata": {},
   "outputs": [
    {
     "name": "stdout",
     "output_type": "stream",
     "text": [
      "Collecting panda\n",
      "  Downloading panda-0.3.1.tar.gz (5.8 kB)\n",
      "  Preparing metadata (setup.py): started\n",
      "  Preparing metadata (setup.py): finished with status 'done'\n",
      "Requirement already satisfied: setuptools in c:\\users\\jmoreno\\appdata\\local\\programs\\python\\python312\\lib\\site-packages (from panda) (70.0.0)\n",
      "Requirement already satisfied: requests in c:\\users\\jmoreno\\appdata\\local\\programs\\python\\python312\\lib\\site-packages (from panda) (2.32.2)\n",
      "Requirement already satisfied: charset-normalizer<4,>=2 in c:\\users\\jmoreno\\appdata\\local\\programs\\python\\python312\\lib\\site-packages (from requests->panda) (3.3.2)\n",
      "Requirement already satisfied: idna<4,>=2.5 in c:\\users\\jmoreno\\appdata\\local\\programs\\python\\python312\\lib\\site-packages (from requests->panda) (3.7)\n",
      "Requirement already satisfied: urllib3<3,>=1.21.1 in c:\\users\\jmoreno\\appdata\\local\\programs\\python\\python312\\lib\\site-packages (from requests->panda) (2.2.1)\n",
      "Requirement already satisfied: certifi>=2017.4.17 in c:\\users\\jmoreno\\appdata\\local\\programs\\python\\python312\\lib\\site-packages (from requests->panda) (2024.2.2)\n",
      "Building wheels for collected packages: panda\n",
      "  Building wheel for panda (setup.py): started\n",
      "  Building wheel for panda (setup.py): finished with status 'done'\n",
      "  Created wheel for panda: filename=panda-0.3.1-py3-none-any.whl size=7246 sha256=8b851cb90e5fbf1ffc58e9f6950d79e294cfccfc35b252e9c5ed4a7040111463\n",
      "  Stored in directory: c:\\users\\jmoreno\\appdata\\local\\pip\\cache\\wheels\\98\\41\\5b\\6ca54e0b6a35e1b7248c12f56fcb753dfb7717fefaa0fb45f5\n",
      "Successfully built panda\n",
      "Installing collected packages: panda\n",
      "Successfully installed panda-0.3.1\n"
     ]
    }
   ],
   "source": [
    "!pip install panda"
   ]
  },
  {
   "cell_type": "code",
   "execution_count": 4,
   "id": "10368a01-9a8b-42d1-837c-980b801cd7e8",
   "metadata": {},
   "outputs": [
    {
     "name": "stdout",
     "output_type": "stream",
     "text": [
      "Requirement already satisfied: PCA in c:\\users\\jmoreno\\appdata\\local\\programs\\python\\python312\\lib\\site-packages (2.0.7)\n",
      "Requirement already satisfied: datazets in c:\\users\\jmoreno\\appdata\\local\\programs\\python\\python312\\lib\\site-packages (from PCA) (0.1.9)\n",
      "Requirement already satisfied: statsmodels in c:\\users\\jmoreno\\appdata\\local\\programs\\python\\python312\\lib\\site-packages (from PCA) (0.14.2)\n",
      "Requirement already satisfied: matplotlib in c:\\users\\jmoreno\\appdata\\local\\programs\\python\\python312\\lib\\site-packages (from PCA) (3.9.0)\n",
      "Requirement already satisfied: numpy in c:\\users\\jmoreno\\appdata\\local\\programs\\python\\python312\\lib\\site-packages (from PCA) (1.26.4)\n",
      "Requirement already satisfied: scikit-learn in c:\\users\\jmoreno\\appdata\\local\\programs\\python\\python312\\lib\\site-packages (from PCA) (1.5.0)\n",
      "Requirement already satisfied: scipy in c:\\users\\jmoreno\\appdata\\local\\programs\\python\\python312\\lib\\site-packages (from PCA) (1.13.1)\n",
      "Requirement already satisfied: colourmap>=1.1.15 in c:\\users\\jmoreno\\appdata\\local\\programs\\python\\python312\\lib\\site-packages (from PCA) (1.1.17)\n",
      "Requirement already satisfied: pandas in c:\\users\\jmoreno\\appdata\\local\\programs\\python\\python312\\lib\\site-packages (from PCA) (2.2.2)\n",
      "Requirement already satisfied: scatterd>=1.3.7 in c:\\users\\jmoreno\\appdata\\local\\programs\\python\\python312\\lib\\site-packages (from PCA) (1.3.7)\n",
      "Requirement already satisfied: adjusttext in c:\\users\\jmoreno\\appdata\\local\\programs\\python\\python312\\lib\\site-packages (from PCA) (1.1.1)\n",
      "Requirement already satisfied: seaborn in c:\\users\\jmoreno\\appdata\\local\\programs\\python\\python312\\lib\\site-packages (from scatterd>=1.3.7->PCA) (0.13.2)\n",
      "Requirement already satisfied: requests in c:\\users\\jmoreno\\appdata\\local\\programs\\python\\python312\\lib\\site-packages (from datazets->PCA) (2.32.2)\n",
      "Requirement already satisfied: contourpy>=1.0.1 in c:\\users\\jmoreno\\appdata\\local\\programs\\python\\python312\\lib\\site-packages (from matplotlib->PCA) (1.2.1)\n",
      "Requirement already satisfied: cycler>=0.10 in c:\\users\\jmoreno\\appdata\\local\\programs\\python\\python312\\lib\\site-packages (from matplotlib->PCA) (0.12.1)\n",
      "Requirement already satisfied: fonttools>=4.22.0 in c:\\users\\jmoreno\\appdata\\local\\programs\\python\\python312\\lib\\site-packages (from matplotlib->PCA) (4.52.1)\n",
      "Requirement already satisfied: kiwisolver>=1.3.1 in c:\\users\\jmoreno\\appdata\\local\\programs\\python\\python312\\lib\\site-packages (from matplotlib->PCA) (1.4.5)\n",
      "Requirement already satisfied: packaging>=20.0 in c:\\users\\jmoreno\\appdata\\local\\programs\\python\\python312\\lib\\site-packages (from matplotlib->PCA) (24.0)\n",
      "Requirement already satisfied: pillow>=8 in c:\\users\\jmoreno\\appdata\\local\\programs\\python\\python312\\lib\\site-packages (from matplotlib->PCA) (10.3.0)\n",
      "Requirement already satisfied: pyparsing>=2.3.1 in c:\\users\\jmoreno\\appdata\\local\\programs\\python\\python312\\lib\\site-packages (from matplotlib->PCA) (3.1.2)\n",
      "Requirement already satisfied: python-dateutil>=2.7 in c:\\users\\jmoreno\\appdata\\local\\programs\\python\\python312\\lib\\site-packages (from matplotlib->PCA) (2.9.0.post0)\n",
      "Requirement already satisfied: pytz>=2020.1 in c:\\users\\jmoreno\\appdata\\local\\programs\\python\\python312\\lib\\site-packages (from pandas->PCA) (2024.1)\n",
      "Requirement already satisfied: tzdata>=2022.7 in c:\\users\\jmoreno\\appdata\\local\\programs\\python\\python312\\lib\\site-packages (from pandas->PCA) (2024.1)\n",
      "Requirement already satisfied: joblib>=1.2.0 in c:\\users\\jmoreno\\appdata\\local\\programs\\python\\python312\\lib\\site-packages (from scikit-learn->PCA) (1.4.2)\n",
      "Requirement already satisfied: threadpoolctl>=3.1.0 in c:\\users\\jmoreno\\appdata\\local\\programs\\python\\python312\\lib\\site-packages (from scikit-learn->PCA) (3.5.0)\n",
      "Requirement already satisfied: patsy>=0.5.6 in c:\\users\\jmoreno\\appdata\\local\\programs\\python\\python312\\lib\\site-packages (from statsmodels->PCA) (0.5.6)\n",
      "Requirement already satisfied: six in c:\\users\\jmoreno\\appdata\\local\\programs\\python\\python312\\lib\\site-packages (from patsy>=0.5.6->statsmodels->PCA) (1.16.0)\n",
      "Requirement already satisfied: charset-normalizer<4,>=2 in c:\\users\\jmoreno\\appdata\\local\\programs\\python\\python312\\lib\\site-packages (from requests->datazets->PCA) (3.3.2)\n",
      "Requirement already satisfied: idna<4,>=2.5 in c:\\users\\jmoreno\\appdata\\local\\programs\\python\\python312\\lib\\site-packages (from requests->datazets->PCA) (3.7)\n",
      "Requirement already satisfied: urllib3<3,>=1.21.1 in c:\\users\\jmoreno\\appdata\\local\\programs\\python\\python312\\lib\\site-packages (from requests->datazets->PCA) (2.2.1)\n",
      "Requirement already satisfied: certifi>=2017.4.17 in c:\\users\\jmoreno\\appdata\\local\\programs\\python\\python312\\lib\\site-packages (from requests->datazets->PCA) (2024.2.2)\n"
     ]
    }
   ],
   "source": [
    "!pip install PCA"
   ]
  },
  {
   "cell_type": "code",
   "execution_count": 6,
   "id": "5ac24537-7853-4065-845f-7607ee9dd034",
   "metadata": {},
   "outputs": [
    {
     "name": "stdout",
     "output_type": "stream",
     "text": [
      "Collecting StandardScaler\n",
      "  Downloading StandardScaler-0.5.tar.gz (2.4 kB)\n",
      "  Preparing metadata (setup.py): started\n",
      "  Preparing metadata (setup.py): finished with status 'done'\n",
      "Requirement already satisfied: numpy in c:\\users\\jmoreno\\appdata\\local\\programs\\python\\python312\\lib\\site-packages (from StandardScaler) (1.26.4)\n",
      "Requirement already satisfied: pandas in c:\\users\\jmoreno\\appdata\\local\\programs\\python\\python312\\lib\\site-packages (from StandardScaler) (2.2.2)\n",
      "Requirement already satisfied: scikit-learn in c:\\users\\jmoreno\\appdata\\local\\programs\\python\\python312\\lib\\site-packages (from StandardScaler) (1.5.0)\n",
      "Collecting scikit-elm (from StandardScaler)\n",
      "  Downloading scikit_elm-0.21a0-py3-none-any.whl.metadata (2.8 kB)\n",
      "Collecting dask (from StandardScaler)\n",
      "  Downloading dask-2024.5.1-py3-none-any.whl.metadata (3.8 kB)\n",
      "Collecting click>=8.1 (from dask->StandardScaler)\n",
      "  Downloading click-8.1.7-py3-none-any.whl.metadata (3.0 kB)\n",
      "Collecting cloudpickle>=1.5.0 (from dask->StandardScaler)\n",
      "  Downloading cloudpickle-3.0.0-py3-none-any.whl.metadata (7.0 kB)\n",
      "Collecting fsspec>=2021.09.0 (from dask->StandardScaler)\n",
      "  Downloading fsspec-2024.5.0-py3-none-any.whl.metadata (11 kB)\n",
      "Requirement already satisfied: packaging>=20.0 in c:\\users\\jmoreno\\appdata\\local\\programs\\python\\python312\\lib\\site-packages (from dask->StandardScaler) (24.0)\n",
      "Collecting partd>=1.2.0 (from dask->StandardScaler)\n",
      "  Downloading partd-1.4.2-py3-none-any.whl.metadata (4.6 kB)\n",
      "Requirement already satisfied: pyyaml>=5.3.1 in c:\\users\\jmoreno\\appdata\\local\\programs\\python\\python312\\lib\\site-packages (from dask->StandardScaler) (6.0.1)\n",
      "Collecting toolz>=0.10.0 (from dask->StandardScaler)\n",
      "  Downloading toolz-0.12.1-py3-none-any.whl.metadata (5.1 kB)\n",
      "Requirement already satisfied: python-dateutil>=2.8.2 in c:\\users\\jmoreno\\appdata\\local\\programs\\python\\python312\\lib\\site-packages (from pandas->StandardScaler) (2.9.0.post0)\n",
      "Requirement already satisfied: pytz>=2020.1 in c:\\users\\jmoreno\\appdata\\local\\programs\\python\\python312\\lib\\site-packages (from pandas->StandardScaler) (2024.1)\n",
      "Requirement already satisfied: tzdata>=2022.7 in c:\\users\\jmoreno\\appdata\\local\\programs\\python\\python312\\lib\\site-packages (from pandas->StandardScaler) (2024.1)\n",
      "Requirement already satisfied: scipy in c:\\users\\jmoreno\\appdata\\local\\programs\\python\\python312\\lib\\site-packages (from scikit-elm->StandardScaler) (1.13.1)\n",
      "Requirement already satisfied: joblib>=1.2.0 in c:\\users\\jmoreno\\appdata\\local\\programs\\python\\python312\\lib\\site-packages (from scikit-learn->StandardScaler) (1.4.2)\n",
      "Requirement already satisfied: threadpoolctl>=3.1.0 in c:\\users\\jmoreno\\appdata\\local\\programs\\python\\python312\\lib\\site-packages (from scikit-learn->StandardScaler) (3.5.0)\n",
      "Requirement already satisfied: colorama in c:\\users\\jmoreno\\appdata\\local\\programs\\python\\python312\\lib\\site-packages (from click>=8.1->dask->StandardScaler) (0.4.6)\n",
      "Collecting locket (from partd>=1.2.0->dask->StandardScaler)\n",
      "  Downloading locket-1.0.0-py2.py3-none-any.whl.metadata (2.8 kB)\n",
      "Requirement already satisfied: six>=1.5 in c:\\users\\jmoreno\\appdata\\local\\programs\\python\\python312\\lib\\site-packages (from python-dateutil>=2.8.2->pandas->StandardScaler) (1.16.0)\n",
      "Downloading dask-2024.5.1-py3-none-any.whl (1.2 MB)\n",
      "   ---------------------------------------- 0.0/1.2 MB ? eta -:--:--\n",
      "   --------- ------------------------------ 0.3/1.2 MB 8.6 MB/s eta 0:00:01\n",
      "   ---------------------------------------  1.2/1.2 MB 19.3 MB/s eta 0:00:01\n",
      "   ---------------------------------------- 1.2/1.2 MB 15.5 MB/s eta 0:00:00\n",
      "Downloading scikit_elm-0.21a0-py3-none-any.whl (30 kB)\n",
      "Downloading click-8.1.7-py3-none-any.whl (97 kB)\n",
      "   ---------------------------------------- 0.0/97.9 kB ? eta -:--:--\n",
      "   ---------------------------------------- 97.9/97.9 kB ? eta 0:00:00\n",
      "Downloading cloudpickle-3.0.0-py3-none-any.whl (20 kB)\n",
      "Downloading fsspec-2024.5.0-py3-none-any.whl (316 kB)\n",
      "   ---------------------------------------- 0.0/316.1 kB ? eta -:--:--\n",
      "   --------------------------------------- 316.1/316.1 kB 20.4 MB/s eta 0:00:00\n",
      "Downloading partd-1.4.2-py3-none-any.whl (18 kB)\n",
      "Downloading toolz-0.12.1-py3-none-any.whl (56 kB)\n",
      "   ---------------------------------------- 0.0/56.1 kB ? eta -:--:--\n",
      "   ---------------------------------------- 56.1/56.1 kB 3.1 MB/s eta 0:00:00\n",
      "Downloading locket-1.0.0-py2.py3-none-any.whl (4.4 kB)\n",
      "Building wheels for collected packages: StandardScaler\n",
      "  Building wheel for StandardScaler (setup.py): started\n",
      "  Building wheel for StandardScaler (setup.py): finished with status 'done'\n",
      "  Created wheel for StandardScaler: filename=StandardScaler-0.5-py3-none-any.whl size=2608 sha256=1684264cad2bbe175771f45b6c22502729d2400babb9a66cb12f15165126c6be\n",
      "  Stored in directory: c:\\users\\jmoreno\\appdata\\local\\pip\\cache\\wheels\\fe\\cf\\ba\\03416e6fb72a0105069c33d9bf5a2ec1af9a41fe57fa7ec554\n",
      "Successfully built StandardScaler\n",
      "Installing collected packages: toolz, locket, fsspec, cloudpickle, click, partd, scikit-elm, dask, StandardScaler\n",
      "Successfully installed StandardScaler-0.5 click-8.1.7 cloudpickle-3.0.0 dask-2024.5.1 fsspec-2024.5.0 locket-1.0.0 partd-1.4.2 scikit-elm-0.21a0 toolz-0.12.1\n"
     ]
    }
   ],
   "source": [
    "!pip install StandardScaler"
   ]
  },
  {
   "cell_type": "code",
   "execution_count": 8,
   "id": "97c27f61-6828-46a5-af46-8bff7d91fc06",
   "metadata": {},
   "outputs": [
    {
     "name": "stdout",
     "output_type": "stream",
     "text": [
      "Requirement already satisfied: matplotlib in c:\\users\\jmoreno\\appdata\\local\\programs\\python\\python312\\lib\\site-packages (3.9.0)\n",
      "Requirement already satisfied: contourpy>=1.0.1 in c:\\users\\jmoreno\\appdata\\local\\programs\\python\\python312\\lib\\site-packages (from matplotlib) (1.2.1)\n",
      "Requirement already satisfied: cycler>=0.10 in c:\\users\\jmoreno\\appdata\\local\\programs\\python\\python312\\lib\\site-packages (from matplotlib) (0.12.1)\n",
      "Requirement already satisfied: fonttools>=4.22.0 in c:\\users\\jmoreno\\appdata\\local\\programs\\python\\python312\\lib\\site-packages (from matplotlib) (4.52.1)\n",
      "Requirement already satisfied: kiwisolver>=1.3.1 in c:\\users\\jmoreno\\appdata\\local\\programs\\python\\python312\\lib\\site-packages (from matplotlib) (1.4.5)\n",
      "Requirement already satisfied: numpy>=1.23 in c:\\users\\jmoreno\\appdata\\local\\programs\\python\\python312\\lib\\site-packages (from matplotlib) (1.26.4)\n",
      "Requirement already satisfied: packaging>=20.0 in c:\\users\\jmoreno\\appdata\\local\\programs\\python\\python312\\lib\\site-packages (from matplotlib) (24.0)\n",
      "Requirement already satisfied: pillow>=8 in c:\\users\\jmoreno\\appdata\\local\\programs\\python\\python312\\lib\\site-packages (from matplotlib) (10.3.0)\n",
      "Requirement already satisfied: pyparsing>=2.3.1 in c:\\users\\jmoreno\\appdata\\local\\programs\\python\\python312\\lib\\site-packages (from matplotlib) (3.1.2)\n",
      "Requirement already satisfied: python-dateutil>=2.7 in c:\\users\\jmoreno\\appdata\\local\\programs\\python\\python312\\lib\\site-packages (from matplotlib) (2.9.0.post0)\n",
      "Requirement already satisfied: six>=1.5 in c:\\users\\jmoreno\\appdata\\local\\programs\\python\\python312\\lib\\site-packages (from python-dateutil>=2.7->matplotlib) (1.16.0)\n"
     ]
    }
   ],
   "source": [
    "!pip install matplotlib"
   ]
  },
  {
   "cell_type": "code",
   "execution_count": 36,
   "id": "aac2089f-e1b8-4b9f-83a0-ed2637e65d93",
   "metadata": {},
   "outputs": [],
   "source": [
    "import numpy as np\n",
    "import pandas as pd\n",
    "from sklearn.decomposition import PCA\n",
    "from sklearn.cluster import KMeans\n",
    "import matplotlib.pyplot as plt"
   ]
  },
  {
   "cell_type": "code",
   "execution_count": 37,
   "id": "e2d3fadd-d691-4fa0-bc1b-bfeb8fa4df4e",
   "metadata": {},
   "outputs": [],
   "source": [
    "data = pd.read_csv('Book2.csv')"
   ]
  },
  {
   "cell_type": "code",
   "execution_count": 49,
   "id": "68f03020-7b7a-4c53-9e75-f2e19484287b",
   "metadata": {},
   "outputs": [],
   "source": [
    "pca = PCA(n_components=2)\n",
    "pca_result = pca.fit_transform(data)"
   ]
  },
  {
   "cell_type": "code",
   "execution_count": 50,
   "id": "e07d7825-d17d-4736-a277-5c20ffd3ed66",
   "metadata": {},
   "outputs": [],
   "source": [
    "kmeans = KMeans(n_clusters=2)\n",
    "clusters = kmeans.fit_predict(data)"
   ]
  },
  {
   "cell_type": "code",
   "execution_count": 51,
   "id": "88442ee1-a4f6-42a9-91dc-5f74e3b932b8",
   "metadata": {},
   "outputs": [],
   "source": [
    "pca_df = pd.DataFrame(data=pca_result, columns=['PC1', 'PC2'])\n",
    "pca_df['Cluster'] = clusters"
   ]
  },
  {
   "cell_type": "code",
   "execution_count": 52,
   "id": "d4661029-312b-464c-888a-2dfe486c4604",
   "metadata": {},
   "outputs": [
    {
     "data": {
      "text/plain": [
       "Text(0.5, 1.0, 'PCA of Dataset with Cluster Coloring')"
      ]
     },
     "execution_count": 52,
     "metadata": {},
     "output_type": "execute_result"
    }
   ],
   "source": [
    "plt.figure(figsize=(10, 7))\n",
    "scatter = plt.scatter(pca_df['PC1'], pca_df['PC2'], c=pca_df['Cluster'], cmap='viridis', alpha=0.7)\n",
    "plt.colorbar(scatter, label='Cluster')\n",
    "plt.xlabel('Principal Component 1')\n",
    "plt.ylabel('Principal Component 2')\n",
    "plt.title('PCA of Dataset with Cluster Coloring')"
   ]
  },
  {
   "cell_type": "code",
   "execution_count": 54,
   "id": "dcfe8913-ca56-498c-9be4-96ea8c66aa4a",
   "metadata": {},
   "outputs": [],
   "source": [
    "plt.savefig('pca_clusters2.png')"
   ]
  },
  {
   "cell_type": "code",
   "execution_count": null,
   "id": "8683b8f1-8ce3-4338-8d67-633564bb2d3a",
   "metadata": {},
   "outputs": [],
   "source": []
  }
 ],
 "metadata": {
  "kernelspec": {
   "display_name": "Python 3 (ipykernel)",
   "language": "python",
   "name": "python3"
  },
  "language_info": {
   "codemirror_mode": {
    "name": "ipython",
    "version": 3
   },
   "file_extension": ".py",
   "mimetype": "text/x-python",
   "name": "python",
   "nbconvert_exporter": "python",
   "pygments_lexer": "ipython3",
   "version": "3.12.3"
  }
 },
 "nbformat": 4,
 "nbformat_minor": 5
}
